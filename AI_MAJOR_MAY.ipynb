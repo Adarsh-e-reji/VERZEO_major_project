{
  "nbformat": 4,
  "nbformat_minor": 0,
  "metadata": {
    "colab": {
      "name": "AI-MAJOR-MAY",
      "provenance": [],
      "collapsed_sections": []
    },
    "kernelspec": {
      "name": "python3",
      "display_name": "Python 3"
    },
    "language_info": {
      "name": "python"
    }
  },
  "cells": [
    {
      "cell_type": "code",
      "metadata": {
        "colab": {
          "base_uri": "https://localhost:8080/"
        },
        "id": "dWU3B33YAWEn",
        "outputId": "fdcc69b5-1db8-4787-d140-07e573927168"
      },
      "source": [
        "pip install face_recognition"
      ],
      "execution_count": null,
      "outputs": [
        {
          "output_type": "stream",
          "text": [
            "Requirement already satisfied: face_recognition in /usr/local/lib/python3.7/dist-packages (1.3.0)\n",
            "Requirement already satisfied: numpy in /usr/local/lib/python3.7/dist-packages (from face_recognition) (1.19.5)\n",
            "Requirement already satisfied: Click>=6.0 in /usr/local/lib/python3.7/dist-packages (from face_recognition) (7.1.2)\n",
            "Requirement already satisfied: dlib>=19.7 in /usr/local/lib/python3.7/dist-packages (from face_recognition) (19.18.0)\n",
            "Requirement already satisfied: face-recognition-models>=0.3.0 in /usr/local/lib/python3.7/dist-packages (from face_recognition) (0.3.0)\n",
            "Requirement already satisfied: Pillow in /usr/local/lib/python3.7/dist-packages (from face_recognition) (7.1.2)\n"
          ],
          "name": "stdout"
        }
      ]
    },
    {
      "cell_type": "code",
      "metadata": {
        "id": "Jh6F_5Z2FMqz"
      },
      "source": [
        "pip install jovian\n"
      ],
      "execution_count": null,
      "outputs": []
    },
    {
      "cell_type": "code",
      "metadata": {
        "colab": {
          "base_uri": "https://localhost:8080/"
        },
        "id": "nTO5M-nhA-2O",
        "outputId": "db8c5563-a0a9-4582-bc27-4ce23df72abb"
      },
      "source": [
        "pip install git+https://github.com/ageitgey/face_recognition_models"
      ],
      "execution_count": null,
      "outputs": [
        {
          "output_type": "stream",
          "text": [
            "Collecting git+https://github.com/ageitgey/face_recognition_models\n",
            "  Cloning https://github.com/ageitgey/face_recognition_models to /tmp/pip-req-build-k495uo99\n",
            "  Running command git clone -q https://github.com/ageitgey/face_recognition_models /tmp/pip-req-build-k495uo99\n"
          ],
          "name": "stdout"
        }
      ]
    },
    {
      "cell_type": "code",
      "metadata": {
        "id": "pM7gd3OW-eV2"
      },
      "source": [
        "import face_recognition\n",
        "import cv2\n",
        "import numpy as np\n",
        "\n",
        "\n",
        "video_capture = cv2.VideoCapture(0)\n",
        "\n",
        "\n",
        "adarsh_image = face_recognition.load_image_file(\"ADARSH.png.jpg\")\n",
        "adarsh_face_encoding = face_recognition.face_encodings(adarsh_image)[0]\n",
        "\n",
        "\n",
        "\n",
        "known_face_encodings = [\n",
        "    adarsh_face_encoding,\n",
        "    \n",
        "]\n",
        "known_face_names = [\n",
        "    \"ADARSH\",\n",
        "    \n",
        "]\n",
        "\n",
        "face_locations = []\n",
        "face_encodings = []\n",
        "face_names = []\n",
        "process_this_frame = True\n",
        "\n",
        "while True:\n",
        "  \n",
        "    ret, frame = video_capture.read()\n",
        "\n",
        "\n",
        "    small_frame = cv2.resize(frame, (0, 0), fx=0.25, fy=0.25)\n",
        "    rgb_small_frame = small_frame[:, :, ::-1]\n",
        "\n",
        " \n",
        "    if process_this_frame:\n",
        "     \n",
        "        face_locations = face_recognition.face_locations(rgb_small_frame)\n",
        "        face_encodings = face_recognition.face_encodings(rgb_small_frame, face_locations)\n",
        "\n",
        "        face_names = []\n",
        "        for face_encoding in face_encodings:\n",
        "            \n",
        "            matches = face_recognition.compare_faces(known_face_encodings, face_encoding)\n",
        "            name = \"Unknown\"\n",
        "\n",
        "           \n",
        "\n",
        "        \n",
        "            face_distances = face_recognition.face_distance(known_face_encodings, face_encoding)\n",
        "            best_match_index = np.argmin(face_distances)\n",
        "            if matches[best_match_index]:\n",
        "                name = known_face_names[best_match_index]\n",
        "\n",
        "            face_names.append(name)\n",
        "\n",
        "    process_this_frame = not process_this_frame\n",
        "    for (top, right, bottom, left), name in zip(face_locations, face_names):\n",
        "\n",
        "        top *= 4\n",
        "        right *= 4\n",
        "        bottom *= 4\n",
        "        left *= 4\n",
        "\n",
        "        cv2.rectangle(frame, (left, top), (right, bottom), (0, 0, 255), 2)\n",
        "\n",
        "    \n",
        "        cv2.rectangle(frame, (left, bottom - 35), (right, bottom), (0, 0, 255), cv2.FILLED)\n",
        "        font = cv2.FONT_HERSHEY_DUPLEX\n",
        "        cv2.putText(frame, name, (left + 6, bottom - 6), font, 1.0, (255, 255, 255), 1)\n",
        "\n",
        "\n",
        "    cv2.imshow('Video', frame)\n",
        "\n",
        "    if cv2.waitKey(1) & 0xFF == ord('q'):\n",
        "        break\n",
        "\n",
        "\n",
        "video_capture.release()\n",
        "cv2.destroyAllWindows()\n"
      ],
      "execution_count": null,
      "outputs": []
    },
    {
      "cell_type": "code",
      "metadata": {
        "id": "Nxa7ihNUCChT"
      },
      "source": [
        "import glob\n",
        "import face_recognition\n",
        "import cv2\n",
        "import numpy as np\n",
        "import jovian\n",
        "\n",
        "paths = glob.glob('C:\\\\Users\\\\vsneh\\\\Udemy-notebooks\\\\face_rec_mod_testing\\\\data\\\\*')\n",
        "names = []\n",
        "images = []\n",
        "image_encodings = []\n",
        "image_names = []\n",
        "count_img = 0\n",
        "for i in paths:\n",
        "    images.append(face_recognition.load_image_file(i))\n",
        "    image_encodings.append(face_recognition.face_encodings(images[count_img])[0])\n",
        "    image_names.append(i.split('\\\\')[-1].split('.')[0])\n",
        "    count_img+=1\n",
        "    print(image_names)\n"
      ],
      "execution_count": null,
      "outputs": []
    },
    {
      "cell_type": "code",
      "metadata": {
        "id": "BJCbkS5fCO26"
      },
      "source": [
        "count = 0\n",
        "cap = cv2.VideoCapture(0)\n",
        "while True:\n",
        "    ret,frame = cap.read()\n",
        "    gray = frame[:, :, ::-1]\n",
        "    face_locations = face_recognition.face_locations(gray)\n",
        "    face_encodings = face_recognition.face_encodings(gray, face_locations)\n",
        "    for (top, right, bottom, left), face_encoding in zip(face_locations, face_encodings):\n",
        "        matches = face_recognition.compare_faces(image_encodings, face_encoding)\n",
        "        name = 'Unknown'\n",
        "        face_distances = face_recognition.face_distance(image_encodings, face_encoding)\n",
        "        best_match_index = np.argmin(face_distances)\n",
        "        if matches[best_match_index]:\n",
        "            name = image_names[best_match_index]\n",
        "        if(name=='Unknown'):\n",
        "            cv2.imwrite('C:\\\\Users\\\\vsneh\\\\Udemy-notebooks\\\\face_rec_mod_testing\\\\intruders\\\\intru-{}.jpg'.format(count),frame)\n",
        "            count+=1\n",
        "        cv2.rectangle(frame, (left, top), (right, bottom), (0, 0, 255), 3)\n",
        "        font = cv2.FONT_HERSHEY_DUPLEX\n",
        "        cv2.putText(frame, name, (left + 6, bottom - 6), font, 1.0, (255, 255, 255), 1)\n",
        "    cv2.imshow(\"output\",frame)\n",
        "    if(cv2.waitKey(1)==ord('q')):\n",
        "        break\n",
        "cap.release()\n",
        "cv2.destroyAllWindows()"
      ],
      "execution_count": null,
      "outputs": []
    },
    {
      "cell_type": "code",
      "metadata": {
        "id": "cQ7yGkAwCPwt"
      },
      "source": [
        "myPath = glob.glob('C:\\\\Users\\\\vsneh\\\\Udemy-notebooks\\\\face_rec_mod_testing\\\\intruders\\\\*')\n",
        "global countFolder\n",
        "count=0\n",
        "\n",
        "for i in myPath:\n",
        "    img = cv2.imread(i)\n",
        "\n",
        "    print(blur)\n",
        "    gray_img = cv2.cvtColor(img,cv2.COLOR_BGR2GRAY)\n",
        "    blur = cv2.Laplacian(gray_img, cv2.CV_64F).var()\n",
        "    if(count % 1 == 0 and blur > 320):\n",
        "        cv2.imwrite(\"C:\\\\Users\\\\vsneh\\\\Udemy-notebooks\\\\Opencv_facebk_auto_uplod\\\\saved\\\\pic-{}.jpg\".format(count), img)\n",
        "        count += 1"
      ],
      "execution_count": null,
      "outputs": []
    },
    {
      "cell_type": "code",
      "metadata": {
        "colab": {
          "base_uri": "https://localhost:8080/"
        },
        "id": "0B1FeAuGCTm_",
        "outputId": "b59e41e7-05a0-4d67-b15f-0cedff96e8a8"
      },
      "source": [
        "\n",
        "import getpass\n",
        "import smtplib\n",
        "server = smtplib.SMTP('smtp.gmail.com',587)\n",
        "server.ehlo()"
      ],
      "execution_count": null,
      "outputs": [
        {
          "output_type": "execute_result",
          "data": {
            "text/plain": [
              "(250,\n",
              " b'smtp.gmail.com at your service, [35.185.102.189]\\nSIZE 35882577\\n8BITMIME\\nSTARTTLS\\nENHANCEDSTATUSCODES\\nPIPELINING\\nCHUNKING\\nSMTPUTF8')"
            ]
          },
          "metadata": {
            "tags": []
          },
          "execution_count": 40
        }
      ]
    },
    {
      "cell_type": "code",
      "metadata": {
        "colab": {
          "base_uri": "https://localhost:8080/"
        },
        "id": "cjEOwYvFCXbi",
        "outputId": "9e3689ee-83e6-4f2e-ffd8-1963c8c9e599"
      },
      "source": [
        "server.starttls()"
      ],
      "execution_count": null,
      "outputs": [
        {
          "output_type": "execute_result",
          "data": {
            "text/plain": [
              "(220, b'2.0.0 Ready to start TLS')"
            ]
          },
          "metadata": {
            "tags": []
          },
          "execution_count": 41
        }
      ]
    },
    {
      "cell_type": "code",
      "metadata": {
        "id": "8727UQ0-CZ64"
      },
      "source": [
        "username = 'v.adarshereji121@gmail.com'\n",
        "passwd = getpass.getpass()\n",
        "server.login(username,passwd)\n",
        "\n",
        "\n",
        "from email.mime.multipart import MIMEMultipart\n",
        "from email.mime.text import MIMEText\n",
        "from email.mime.application import MIMEApplication\n",
        "from datetime import datetime\n",
        "\n",
        "msg= MIMEMultipart()\n",
        "msg['from'] = username\n",
        "msg['to'] = username\n",
        "msg['subject'] = \"Images\"\n",
        "text = \"Check these sample unknown person images , if something *fishy!!*, check intruder folder immediately\"\n",
        "msg.attach(MIMEText(text))\n",
        "F = glob.glob(\"C:\\\\Users\\\\vsneh\\\\Udemy-notebooks\\\\face_rec_mod_testing\\\\intruders\\\\*\")\n",
        "for i in F:\n",
        "    with open(i,'rb') as f:\n",
        "            part = MIMEApplication(f.read())\n",
        "            part.add_header('content-Disposition','attachment',filename='{}.jpg'.format(count+1))\n",
        "            msg.attach(part)\n",
        "server.sendmail(username,username,msg.as_string())"
      ],
      "execution_count": null,
      "outputs": []
    },
    {
      "cell_type": "code",
      "metadata": {
        "id": "cb31lDoOCdLM"
      },
      "source": [
        "jovian.commit(project=\"intruder-detection-version2\")"
      ],
      "execution_count": null,
      "outputs": []
    }
  ]
}